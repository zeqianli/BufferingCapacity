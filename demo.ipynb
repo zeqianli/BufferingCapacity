{
 "cells": [
  {
   "attachments": {},
   "cell_type": "markdown",
   "metadata": {},
   "source": [
    "## Demo for initial pH prediction\n"
   ]
  },
  {
   "cell_type": "code",
   "execution_count": 1,
   "metadata": {},
   "outputs": [],
   "source": [
    "import numpy as np, pandas as pd, matplotlib.pyplot as plt\n",
    "from utils.droplet_utils import *"
   ]
  },
  {
   "cell_type": "code",
   "execution_count": 2,
   "metadata": {},
   "outputs": [
    {
     "data": {
      "text/plain": [
       "7.0979315174360345"
      ]
     },
     "execution_count": 2,
     "metadata": {},
     "output_type": "execute_result"
    }
   ],
   "source": [
    "media_cond=\"sol_C=False;Tris=5;C=10;NH4=0.85;P_mix=4\" # Can also pass a dictionary: media_cond={'sol_C': False, 'Tris': 0.005, 'C': 0.01, 'NH4': 0.00085, 'P_mix': 0.004}\n",
    "Tris_stock_conc_M=0.04 # These two parameters are required when Tris is not 0. \n",
    "Tris_stock_pH=7.5\n",
    "predict_initial_pH(media_cond=media_cond,linear_model_correction=True, Tris_stock_conc_M=Tris_stock_conc_M,Tris_stock_pH=Tris_stock_pH)"
   ]
  }
 ],
 "metadata": {
  "interpreter": {
   "hash": "918d45bfe54841e0e35e2ce5065451bf09334a5b8cd8cbf73e2b260a95dcdfd3"
  },
  "kernelspec": {
   "display_name": "Python 3.9.7 ('base')",
   "language": "python",
   "name": "python3"
  },
  "language_info": {
   "codemirror_mode": {
    "name": "ipython",
    "version": 3
   },
   "file_extension": ".py",
   "mimetype": "text/x-python",
   "name": "python",
   "nbconvert_exporter": "python",
   "pygments_lexer": "ipython3",
   "version": "3.9.7"
  },
  "orig_nbformat": 4
 },
 "nbformat": 4,
 "nbformat_minor": 2
}
